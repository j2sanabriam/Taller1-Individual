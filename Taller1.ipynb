{
 "cells": [
  {
   "cell_type": "markdown",
   "id": "30e7c342-3338-453b-9cbf-6abb7a66a606",
   "metadata": {
    "tags": []
   },
   "source": [
    "# Taller 1: Análisis Exploratorio de Datos (EDA) y Visualización\n",
    "\n",
    "Jose Julian Sanabria Mejia <br> Cod: 202224837 <br> jj.sanabria@uniandes.edu.co\n",
    "\n",
    "MINE-4101: Ciencia de Dato Aplicada <br> Univerisdad de los Andes\n",
    "\n",
    "Dataset: Spotify\n",
    "\n",
    "Última Actualización: September, 2022"
   ]
  },
  {
   "cell_type": "code",
   "execution_count": 235,
   "id": "a8149c42-cc03-413e-8674-51bf64869d43",
   "metadata": {},
   "outputs": [],
   "source": [
    "# Importar librerías\n",
    "import pandas as pd\n",
    "import matplotlib.pyplot as plt\n",
    "import re"
   ]
  },
  {
   "cell_type": "code",
   "execution_count": 144,
   "id": "82a5997a-9ea6-4b07-93aa-c634ac27904a",
   "metadata": {},
   "outputs": [],
   "source": [
    "# Configuración de Panadas para extender el número de filas y columnas a visualizar\n",
    "pd.set_option('display.max_rows', 100)\n",
    "pd.set_option('display.max_columns', 100)"
   ]
  },
  {
   "cell_type": "markdown",
   "id": "9ca34e96-0af5-4dfe-8e6a-ba36a0bde522",
   "metadata": {
    "tags": []
   },
   "source": [
    "## Punto 0: Proceso de limpieza para calidad de datos\n",
    "\n",
    "Para la correcta lectura del dataset, se realizaron las siguientes correcciones antes de cargarlo al Dataframe:\n",
    "\n",
    "usando expresiones regulares:\n",
    "Se buscó ;[\\r\\n]+\" y se reemplazó por \\r\\n para quitar \" al inicio de algunas línes\n",
    "Se buscó ;[\\r\\n] y se reemplazó por \\r para quitar ; al final de todas la líneas\n",
    "\n",
    "Finalmente se ajustaron manualmente las comillas para las líneas:\n",
    "1402\n",
    "1494\n",
    "1508\n",
    "1785\n",
    "1885\n",
    "\n",
    "\n"
   ]
  },
  {
   "cell_type": "code",
   "execution_count": 373,
   "id": "557c0f28-e593-4581-8351-f34a5dc7d389",
   "metadata": {},
   "outputs": [],
   "source": [
    "# El DataSet se abre como archivo y se extrea la información como texto\n",
    "f = open ('./data/Data_Taller_1.csv','r', encoding='UTF8')\n",
    "text = f.read()\n",
    "f.close()\n",
    "\n",
    "# Ajuste de comillas al texto para la correcta lectura con Pandas\n",
    "text = text.replace('\"\"\"\"\"', '\"')\n",
    "text = text.replace('\"\"\"', '\"')\n",
    "text = text.replace('\"\"', '\"')\n",
    "text = text.replace('set()\"', '')\n",
    "text = text.replace('set()', '')\n",
    "\n",
    "# Uso de expresión regular para: quitar punto y como (;) al final de una linea y comillas (\") al inicio de la siguiente línes \n",
    "text = re.sub(r';[\\r\\n]+\"', \"\\n\", text)\n",
    "# Uso de expresión regular para: quitar punto y como (;) al final de una linea \n",
    "text = re.sub(r';[\\r\\n]', \"\\n\", text)\n",
    "\n",
    "# Ajuste linea 1977, el nombre del artista contiene una coma\n",
    "text = text.replace('Tyler, The Creator', '\"Tyler, The Creator\"')\n",
    "\n",
    "# El texto corregido lo escribo sobre un archivo nuevo, para no perder la versión original y comparar la limpieza realizada.\n",
    "f = open ('./data/Data_Taller_2.csv','w', encoding='UTF8')\n",
    "f.write(text)\n",
    "f.close()\n"
   ]
  },
  {
   "cell_type": "code",
   "execution_count": 374,
   "id": "2cd3b17b-cefb-4f73-9b95-59152c6bf43f",
   "metadata": {},
   "outputs": [],
   "source": [
    "# Carga del archivo CSV al que se realizó la limpieza como DataFrame de Pandas\n",
    "sptf_df = pd.read_csv('./data/Data_Taller_2.csv')"
   ]
  },
  {
   "cell_type": "code",
   "execution_count": 375,
   "id": "2cea4d1e-ed4b-4fd0-af6c-cba030ac81d8",
   "metadata": {},
   "outputs": [
    {
     "data": {
      "text/plain": [
       "(2000, 18)"
      ]
     },
     "execution_count": 375,
     "metadata": {},
     "output_type": "execute_result"
    }
   ],
   "source": [
    "# Describe las dimensiones del DataFrame\n",
    "sptf_df.shape"
   ]
  },
  {
   "cell_type": "code",
   "execution_count": 376,
   "id": "c8e5b21b-7661-4789-9a2c-508a5507e680",
   "metadata": {},
   "outputs": [
    {
     "data": {
      "text/plain": [
       "artist               object\n",
       "song                 object\n",
       "duration_ms          object\n",
       "explicit             object\n",
       "year                float64\n",
       "popularity          float64\n",
       "danceability        float64\n",
       "energy              float64\n",
       "key                 float64\n",
       "loudness            float64\n",
       "mode                float64\n",
       "speechiness         float64\n",
       "acousticness        float64\n",
       "instrumentalness    float64\n",
       "liveness            float64\n",
       "valence             float64\n",
       "tempo               float64\n",
       "genre                object\n",
       "dtype: object"
      ]
     },
     "execution_count": 376,
     "metadata": {},
     "output_type": "execute_result"
    }
   ],
   "source": [
    "# Describe las columnas y su tipo del DataFrame cargado\n",
    "sptf_df.dtypes"
   ]
  },
  {
   "cell_type": "code",
   "execution_count": 377,
   "id": "ad6a746b-88ee-4143-94ce-45fb6c793c10",
   "metadata": {},
   "outputs": [],
   "source": [
    "# Filtra las filas donde year == NaN (año sea nulo)\n",
    "sptf_df = sptf_df[sptf_df['year'].notna()]\n",
    "\n",
    "#Converte la columna year de float a int\n",
    "sptf_df['year'] = sptf_df['year'].astype('int64')\n",
    "\n",
    "\n",
    "# Filtra las filas donde duration_ms == NaN (duración canción sea nula)\n",
    "sptf_df = sptf_df[sptf_df['duration_ms'].notna()]\n",
    "\n",
    "#Converte la columna duration_ms de object a float\n",
    "sptf_df['duration_ms'] = sptf_df['duration_ms'].astype('float64')\n",
    "\n",
    "# Filtra las filas donde genre == NaN (género sea nulo)\n",
    "sptf_df = sptf_df[sptf_df['genre'].notna()]\n"
   ]
  },
  {
   "cell_type": "markdown",
   "id": "dc62154c-d573-4367-8612-7144ec74bc71",
   "metadata": {},
   "source": [
    "## Punto 1: top 10 de artistas más activos de los últimos 10 años\n",
    "\n",
    "Para este ejercicio se asume que los artistas más activos son aquellos que tienen mayor cantidad de canciones."
   ]
  },
  {
   "cell_type": "code",
   "execution_count": 378,
   "id": "b5bfad93-98e4-49f0-bb5f-453d4277b6bf",
   "metadata": {},
   "outputs": [
    {
     "data": {
      "text/plain": [
       "2020"
      ]
     },
     "execution_count": 378,
     "metadata": {},
     "output_type": "execute_result"
    }
   ],
   "source": [
    "# Calcula el máximo año del DataFrame\n",
    "max_year = sptf_df[\"year\"].max()\n",
    "max_year"
   ]
  },
  {
   "cell_type": "code",
   "execution_count": 379,
   "id": "fca591c9-eba1-4f58-8fc7-fcb61432c7be",
   "metadata": {},
   "outputs": [
    {
     "data": {
      "text/html": [
       "<div>\n",
       "<style scoped>\n",
       "    .dataframe tbody tr th:only-of-type {\n",
       "        vertical-align: middle;\n",
       "    }\n",
       "\n",
       "    .dataframe tbody tr th {\n",
       "        vertical-align: top;\n",
       "    }\n",
       "\n",
       "    .dataframe thead th {\n",
       "        text-align: right;\n",
       "    }\n",
       "</style>\n",
       "<table border=\"1\" class=\"dataframe\">\n",
       "  <thead>\n",
       "    <tr style=\"text-align: right;\">\n",
       "      <th></th>\n",
       "      <th>artist</th>\n",
       "      <th>song</th>\n",
       "    </tr>\n",
       "  </thead>\n",
       "  <tbody>\n",
       "    <tr>\n",
       "      <th>0</th>\n",
       "      <td>Drake</td>\n",
       "      <td>19</td>\n",
       "    </tr>\n",
       "    <tr>\n",
       "      <th>1</th>\n",
       "      <td>Calvin Harris</td>\n",
       "      <td>18</td>\n",
       "    </tr>\n",
       "    <tr>\n",
       "      <th>2</th>\n",
       "      <td>Ariana Grande</td>\n",
       "      <td>14</td>\n",
       "    </tr>\n",
       "    <tr>\n",
       "      <th>3</th>\n",
       "      <td>David Guetta</td>\n",
       "      <td>13</td>\n",
       "    </tr>\n",
       "    <tr>\n",
       "      <th>4</th>\n",
       "      <td>Taylor Swift</td>\n",
       "      <td>13</td>\n",
       "    </tr>\n",
       "    <tr>\n",
       "      <th>5</th>\n",
       "      <td>Katy Perry</td>\n",
       "      <td>11</td>\n",
       "    </tr>\n",
       "    <tr>\n",
       "      <th>6</th>\n",
       "      <td>Avicii</td>\n",
       "      <td>10</td>\n",
       "    </tr>\n",
       "    <tr>\n",
       "      <th>7</th>\n",
       "      <td>Chris Brown</td>\n",
       "      <td>10</td>\n",
       "    </tr>\n",
       "    <tr>\n",
       "      <th>8</th>\n",
       "      <td>Ed Sheeran</td>\n",
       "      <td>9</td>\n",
       "    </tr>\n",
       "    <tr>\n",
       "      <th>9</th>\n",
       "      <td>Jason Derulo</td>\n",
       "      <td>9</td>\n",
       "    </tr>\n",
       "  </tbody>\n",
       "</table>\n",
       "</div>"
      ],
      "text/plain": [
       "          artist  song\n",
       "0          Drake    19\n",
       "1  Calvin Harris    18\n",
       "2  Ariana Grande    14\n",
       "3   David Guetta    13\n",
       "4   Taylor Swift    13\n",
       "5     Katy Perry    11\n",
       "6         Avicii    10\n",
       "7    Chris Brown    10\n",
       "8     Ed Sheeran     9\n",
       "9   Jason Derulo     9"
      ]
     },
     "execution_count": 379,
     "metadata": {},
     "output_type": "execute_result"
    }
   ],
   "source": [
    "#Filtra los últimos 10 años (2011 a 2020) y selecciona las dos primeras columnas del DataFrame (artísta y canción)\n",
    "top10_df = sptf_df[(sptf_df['year'] >= 2011)].iloc[:,0:2]\n",
    "\n",
    "# Agrupa por artist y cuenta la cantidad de canciones (song)\n",
    "top10_df = top10_df.groupby('artist').count()\n",
    "\n",
    "#Filtra el top 10 con mayor conteo de canciones\n",
    "top10_df = top10_df.nlargest(n=10, columns=['song']).reset_index()\n",
    "\n",
    "# Muestra el top 10 de los artistas más activos en los últimos 10 años\n",
    "top10_df"
   ]
  },
  {
   "cell_type": "markdown",
   "id": "6c008fb1-abf8-4f6c-a966-b96f88cc16ca",
   "metadata": {},
   "source": [
    "### Visualización"
   ]
  },
  {
   "cell_type": "code",
   "execution_count": 380,
   "id": "09712768-1b81-4552-ae8d-c8c94294017b",
   "metadata": {},
   "outputs": [
    {
     "data": {
      "image/png": "[encoded data removed]",
      "text/plain": [
       "<Figure size 640x480 with 1 Axes>"
      ]
     },
     "metadata": {},
     "output_type": "display_data"
    }
   ],
   "source": [
    "# Visualiza el top 10 de artistas más activos en los últimos 10 años\n",
    "ax = top10_df.plot.barh(x='artist', y='song')\n",
    "ax.invert_yaxis()\n",
    "ax.set_ylabel('artista')\n",
    "ax.set_title('Artistas más activos en los últimos 10 años')\n",
    "\n",
    "#oculta el eje x\n",
    "ax.get_xaxis().set_visible(False)\n",
    "\n",
    "# cambia texto de la leyenda\n",
    "L=plt.legend()\n",
    "L.get_texts()[0].set_text('cantidad de canciones')\n",
    "\n",
    "# asigna cantidad canciones frente a cada barra\n",
    "for rect in ax.patches:\n",
    "    ax.text(\n",
    "        rect.get_width() + .2,\n",
    "        rect.get_y() + rect.get_height() / 1.5 ,\n",
    "        rect.get_width(),\n",
    "        fontsize=10\n",
    "    )"
   ]
  },
  {
   "cell_type": "markdown",
   "id": "83e80ebe-2483-4d92-9a8f-c9ec172d2dc6",
   "metadata": {},
   "source": [
    "## Punto 2: \n",
    "\n",
    "Halle la diferencia del tiempo promedio entre los géneros Latin y Folk/Acoustic"
   ]
  },
  {
   "cell_type": "code",
   "execution_count": 381,
   "id": "3c732464-56a3-4e3a-a91b-89790c0147cb",
   "metadata": {},
   "outputs": [
    {
     "data": {
      "text/plain": [
       "220183.65"
      ]
     },
     "execution_count": 381,
     "metadata": {},
     "output_type": "execute_result"
    }
   ],
   "source": [
    "# Promedio tiempo duración canciones del género Folk/Acoustic\n",
    "folk_mean = sptf_df[sptf_df['genre'].str.contains(\"Folk/Acoustic\")]['duration_ms'].mean()\n",
    "folk_mean"
   ]
  },
  {
   "cell_type": "code",
   "execution_count": 382,
   "id": "3ebe3544-3498-4743-ad85-0b2f0a515ab6",
   "metadata": {},
   "outputs": [
    {
     "data": {
      "text/plain": [
       "227674.859375"
      ]
     },
     "execution_count": 382,
     "metadata": {},
     "output_type": "execute_result"
    }
   ],
   "source": [
    "# Promedio tiempo duración canciones del género latin\n",
    "latin_mean = sptf_df[sptf_df['genre'].str.contains(\"latin\")]['duration_ms'].mean()\n",
    "latin_mean"
   ]
  },
  {
   "cell_type": "code",
   "execution_count": 383,
   "id": "f73591be-eb7f-4543-b765-dd57c3e5177d",
   "metadata": {},
   "outputs": [
    {
     "data": {
      "text/plain": [
       "7491.21"
      ]
     },
     "execution_count": 383,
     "metadata": {},
     "output_type": "execute_result"
    }
   ],
   "source": [
    "# diferencia del tiempo promedio entre Latin y Folk/Acoustic\n",
    "dif_mean = round(latin_mean - folk_mean, 2)\n",
    "dif_mean"
   ]
  },
  {
   "cell_type": "markdown",
   "id": "b7a79ea6-1bd6-4256-9f95-f4d9e62b2685",
   "metadata": {},
   "source": [
    "### Visualización\n",
    "\n",
    "Basado en las buenas prácticas del capitulo 2 del libro Storytelling with Data A Data Visualization Guide for Business Professionals, \n",
    "en lugar de realizar una gráfica para mostrar un solo número, es mejor mostrar ese número en texto sencillo."
   ]
  },
  {
   "cell_type": "code",
   "execution_count": 384,
   "id": "55bf29e9-82cc-493b-ba89-4be61a2a5703",
   "metadata": {},
   "outputs": [
    {
     "data": {
      "image/png": "[encoded data removed]",
      "text/plain": [
       "<Figure size 640x480 with 1 Axes>"
      ]
     },
     "metadata": {},
     "output_type": "display_data"
    }
   ],
   "source": [
    "#create data dummy\n",
    "x = [3, 16]\n",
    "y = [4, 9]\n",
    "\n",
    "#create scatterplot\n",
    "ax =plt.scatter(x, y, color=['white'])\n",
    "\n",
    "# formatos del texto\n",
    "font = {'family': 'serif',\n",
    "        'color':  'green',\n",
    "        'weight': 'bold',\n",
    "        'size': 50\n",
    "        }\n",
    "\n",
    "font2 = {'family': 'serif',\n",
    "        'color':  'gray',\n",
    "        'weight': 'bold',\n",
    "        'size': 18\n",
    "        }\n",
    "\n",
    "#muestra textos\n",
    "plt.text(3, 6.5, str(dif_mean) + \" ms\", fontdict=font)\n",
    "plt.text(3, 6.0, \"Diferencia del tiempo promedio\", fontdict=font2)\n",
    "plt.text(4, 5.5, \"entre Latin y Folk/Acoustic\", fontdict=font2)\n",
    "\n",
    "#oculta el ejes\n",
    "plt.axis('off')\n",
    "\n",
    "plt.show()"
   ]
  },
  {
   "cell_type": "markdown",
   "id": "a53ee226-1097-419c-8a79-9e677b5d6242",
   "metadata": {
    "tags": []
   },
   "source": [
    "## Punto 3: \n",
    "\n",
    "Top 5 de géneros en los años 2000, 2005, 2010, 2015, 2019 según la cantidad de canciones\n"
   ]
  },
  {
   "cell_type": "code",
   "execution_count": 414,
   "id": "7d79961d-5add-4aa2-bc60-a8f455a57f8c",
   "metadata": {},
   "outputs": [],
   "source": [
    "# filtrar años requeridos\n",
    "dev_df = sptf_df[sptf_df.year.isin([2000, 2005, 2010, 2015, 2019])]"
   ]
  },
  {
   "cell_type": "code",
   "execution_count": 415,
   "id": "be651142-3fbd-4da5-90ed-15d3712a994f",
   "metadata": {},
   "outputs": [
    {
     "data": {
      "text/html": [
       "<div>\n",
       "<style scoped>\n",
       "    .dataframe tbody tr th:only-of-type {\n",
       "        vertical-align: middle;\n",
       "    }\n",
       "\n",
       "    .dataframe tbody tr th {\n",
       "        vertical-align: top;\n",
       "    }\n",
       "\n",
       "    .dataframe thead th {\n",
       "        text-align: right;\n",
       "    }\n",
       "</style>\n",
       "<table border=\"1\" class=\"dataframe\">\n",
       "  <thead>\n",
       "    <tr style=\"text-align: right;\">\n",
       "      <th></th>\n",
       "      <th>year</th>\n",
       "      <th>song</th>\n",
       "      <th>genre</th>\n",
       "    </tr>\n",
       "  </thead>\n",
       "  <tbody>\n",
       "    <tr>\n",
       "      <th>0</th>\n",
       "      <td>2000</td>\n",
       "      <td>Oops!...I Did It Again</td>\n",
       "      <td>pop</td>\n",
       "    </tr>\n",
       "    <tr>\n",
       "      <th>1</th>\n",
       "      <td>2000</td>\n",
       "      <td>It's My Life</td>\n",
       "      <td>rock</td>\n",
       "    </tr>\n",
       "    <tr>\n",
       "      <th>2</th>\n",
       "      <td>2000</td>\n",
       "      <td>It's My Life</td>\n",
       "      <td>metal</td>\n",
       "    </tr>\n",
       "    <tr>\n",
       "      <th>3</th>\n",
       "      <td>2000</td>\n",
       "      <td>Bye Bye Bye</td>\n",
       "      <td>pop</td>\n",
       "    </tr>\n",
       "    <tr>\n",
       "      <th>4</th>\n",
       "      <td>2000</td>\n",
       "      <td>The Real Slim Shady</td>\n",
       "      <td>hip hop</td>\n",
       "    </tr>\n",
       "    <tr>\n",
       "      <th>...</th>\n",
       "      <td>...</td>\n",
       "      <td>...</td>\n",
       "      <td>...</td>\n",
       "    </tr>\n",
       "    <tr>\n",
       "      <th>884</th>\n",
       "      <td>2019</td>\n",
       "      <td>Cruel Summer</td>\n",
       "      <td>pop</td>\n",
       "    </tr>\n",
       "    <tr>\n",
       "      <th>885</th>\n",
       "      <td>2019</td>\n",
       "      <td>The Git Up</td>\n",
       "      <td>hip hop</td>\n",
       "    </tr>\n",
       "    <tr>\n",
       "      <th>886</th>\n",
       "      <td>2019</td>\n",
       "      <td>The Git Up</td>\n",
       "      <td>country</td>\n",
       "    </tr>\n",
       "    <tr>\n",
       "      <th>887</th>\n",
       "      <td>2019</td>\n",
       "      <td>Dancing With A Stranger (with Normani)</td>\n",
       "      <td>pop</td>\n",
       "    </tr>\n",
       "    <tr>\n",
       "      <th>888</th>\n",
       "      <td>2019</td>\n",
       "      <td>Circles</td>\n",
       "      <td>hip hop</td>\n",
       "    </tr>\n",
       "  </tbody>\n",
       "</table>\n",
       "<p>889 rows × 3 columns</p>\n",
       "</div>"
      ],
      "text/plain": [
       "     year                                    song    genre\n",
       "0    2000                  Oops!...I Did It Again      pop\n",
       "1    2000                            It's My Life     rock\n",
       "2    2000                            It's My Life    metal\n",
       "3    2000                             Bye Bye Bye      pop\n",
       "4    2000                     The Real Slim Shady  hip hop\n",
       "..    ...                                     ...      ...\n",
       "884  2019                            Cruel Summer      pop\n",
       "885  2019                              The Git Up  hip hop\n",
       "886  2019                              The Git Up  country\n",
       "887  2019  Dancing With A Stranger (with Normani)      pop\n",
       "888  2019                                 Circles  hip hop\n",
       "\n",
       "[889 rows x 3 columns]"
      ]
     },
     "execution_count": 415,
     "metadata": {},
     "output_type": "execute_result"
    }
   ],
   "source": [
    "#desagregar columna género\n",
    "dev_df = dev_df[['year','song','genre']]\n",
    "year = []\n",
    "song = []\n",
    "genre = []\n",
    "for i in dev_df.index:\n",
    "    genre_list = dev_df[\"genre\"][i].split(',')\n",
    "    for gen in genre_list:\n",
    "        year.append(dev_df[\"year\"][i])\n",
    "        song.append(dev_df[\"song\"][i])\n",
    "        genre.append(gen.strip())\n",
    "        \n",
    "data = {'year': year,\n",
    "    'song': song,\n",
    "    'genre': genre}\n",
    "new_df = pd.DataFrame(data)\n",
    "\n",
    "new_df"
   ]
  },
  {
   "cell_type": "code",
   "execution_count": 426,
   "id": "c1dff3bc-08ff-4430-bcad-000e7ba8f471",
   "metadata": {},
   "outputs": [
    {
     "data": {
      "text/html": [
       "<div>\n",
       "<style scoped>\n",
       "    .dataframe tbody tr th:only-of-type {\n",
       "        vertical-align: middle;\n",
       "    }\n",
       "\n",
       "    .dataframe tbody tr th {\n",
       "        vertical-align: top;\n",
       "    }\n",
       "\n",
       "    .dataframe thead th {\n",
       "        text-align: right;\n",
       "    }\n",
       "</style>\n",
       "<table border=\"1\" class=\"dataframe\">\n",
       "  <thead>\n",
       "    <tr style=\"text-align: right;\">\n",
       "      <th></th>\n",
       "      <th>year</th>\n",
       "      <th>genre</th>\n",
       "      <th>song</th>\n",
       "    </tr>\n",
       "  </thead>\n",
       "  <tbody>\n",
       "    <tr>\n",
       "      <th>47</th>\n",
       "      <td>2019</td>\n",
       "      <td>pop</td>\n",
       "      <td>62</td>\n",
       "    </tr>\n",
       "    <tr>\n",
       "      <th>44</th>\n",
       "      <td>2019</td>\n",
       "      <td>hip hop</td>\n",
       "      <td>38</td>\n",
       "    </tr>\n",
       "    <tr>\n",
       "      <th>41</th>\n",
       "      <td>2019</td>\n",
       "      <td>Dance/Electronic</td>\n",
       "      <td>21</td>\n",
       "    </tr>\n",
       "    <tr>\n",
       "      <th>42</th>\n",
       "      <td>2019</td>\n",
       "      <td>R&amp;B</td>\n",
       "      <td>9</td>\n",
       "    </tr>\n",
       "    <tr>\n",
       "      <th>45</th>\n",
       "      <td>2019</td>\n",
       "      <td>latin</td>\n",
       "      <td>8</td>\n",
       "    </tr>\n",
       "    <tr>\n",
       "      <th>38</th>\n",
       "      <td>2015</td>\n",
       "      <td>pop</td>\n",
       "      <td>87</td>\n",
       "    </tr>\n",
       "    <tr>\n",
       "      <th>36</th>\n",
       "      <td>2015</td>\n",
       "      <td>hip hop</td>\n",
       "      <td>33</td>\n",
       "    </tr>\n",
       "    <tr>\n",
       "      <th>33</th>\n",
       "      <td>2015</td>\n",
       "      <td>Dance/Electronic</td>\n",
       "      <td>28</td>\n",
       "    </tr>\n",
       "    <tr>\n",
       "      <th>34</th>\n",
       "      <td>2015</td>\n",
       "      <td>R&amp;B</td>\n",
       "      <td>21</td>\n",
       "    </tr>\n",
       "    <tr>\n",
       "      <th>40</th>\n",
       "      <td>2015</td>\n",
       "      <td>rock</td>\n",
       "      <td>14</td>\n",
       "    </tr>\n",
       "    <tr>\n",
       "      <th>30</th>\n",
       "      <td>2010</td>\n",
       "      <td>pop</td>\n",
       "      <td>96</td>\n",
       "    </tr>\n",
       "    <tr>\n",
       "      <th>28</th>\n",
       "      <td>2010</td>\n",
       "      <td>hip hop</td>\n",
       "      <td>54</td>\n",
       "    </tr>\n",
       "    <tr>\n",
       "      <th>23</th>\n",
       "      <td>2010</td>\n",
       "      <td>Dance/Electronic</td>\n",
       "      <td>28</td>\n",
       "    </tr>\n",
       "    <tr>\n",
       "      <th>24</th>\n",
       "      <td>2010</td>\n",
       "      <td>R&amp;B</td>\n",
       "      <td>23</td>\n",
       "    </tr>\n",
       "    <tr>\n",
       "      <th>32</th>\n",
       "      <td>2010</td>\n",
       "      <td>rock</td>\n",
       "      <td>6</td>\n",
       "    </tr>\n",
       "    <tr>\n",
       "      <th>20</th>\n",
       "      <td>2005</td>\n",
       "      <td>pop</td>\n",
       "      <td>81</td>\n",
       "    </tr>\n",
       "    <tr>\n",
       "      <th>15</th>\n",
       "      <td>2005</td>\n",
       "      <td>hip hop</td>\n",
       "      <td>50</td>\n",
       "    </tr>\n",
       "    <tr>\n",
       "      <th>11</th>\n",
       "      <td>2005</td>\n",
       "      <td>R&amp;B</td>\n",
       "      <td>31</td>\n",
       "    </tr>\n",
       "    <tr>\n",
       "      <th>21</th>\n",
       "      <td>2005</td>\n",
       "      <td>rock</td>\n",
       "      <td>18</td>\n",
       "    </tr>\n",
       "    <tr>\n",
       "      <th>9</th>\n",
       "      <td>2005</td>\n",
       "      <td>Dance/Electronic</td>\n",
       "      <td>5</td>\n",
       "    </tr>\n",
       "    <tr>\n",
       "      <th>7</th>\n",
       "      <td>2000</td>\n",
       "      <td>pop</td>\n",
       "      <td>57</td>\n",
       "    </tr>\n",
       "    <tr>\n",
       "      <th>2</th>\n",
       "      <td>2000</td>\n",
       "      <td>R&amp;B</td>\n",
       "      <td>25</td>\n",
       "    </tr>\n",
       "    <tr>\n",
       "      <th>4</th>\n",
       "      <td>2000</td>\n",
       "      <td>hip hop</td>\n",
       "      <td>21</td>\n",
       "    </tr>\n",
       "    <tr>\n",
       "      <th>8</th>\n",
       "      <td>2000</td>\n",
       "      <td>rock</td>\n",
       "      <td>13</td>\n",
       "    </tr>\n",
       "    <tr>\n",
       "      <th>6</th>\n",
       "      <td>2000</td>\n",
       "      <td>metal</td>\n",
       "      <td>8</td>\n",
       "    </tr>\n",
       "  </tbody>\n",
       "</table>\n",
       "</div>"
      ],
      "text/plain": [
       "    year             genre  song\n",
       "47  2019               pop    62\n",
       "44  2019           hip hop    38\n",
       "41  2019  Dance/Electronic    21\n",
       "42  2019               R&B     9\n",
       "45  2019             latin     8\n",
       "38  2015               pop    87\n",
       "36  2015           hip hop    33\n",
       "33  2015  Dance/Electronic    28\n",
       "34  2015               R&B    21\n",
       "40  2015              rock    14\n",
       "30  2010               pop    96\n",
       "28  2010           hip hop    54\n",
       "23  2010  Dance/Electronic    28\n",
       "24  2010               R&B    23\n",
       "32  2010              rock     6\n",
       "20  2005               pop    81\n",
       "15  2005           hip hop    50\n",
       "11  2005               R&B    31\n",
       "21  2005              rock    18\n",
       "9   2005  Dance/Electronic     5\n",
       "7   2000               pop    57\n",
       "2   2000               R&B    25\n",
       "4   2000           hip hop    21\n",
       "8   2000              rock    13\n",
       "6   2000             metal     8"
      ]
     },
     "execution_count": 426,
     "metadata": {},
     "output_type": "execute_result"
    }
   ],
   "source": [
    "# Agrupa por año y género y cuenta la cantidad de canciones (song)\n",
    "top5_df = new_df.groupby(['year','genre']).count().reset_index()\n",
    "\n",
    "#Filtra el top 5 de géneros con mayor conteo de canciones por cada año\n",
    "top5_df = top5_df.nlargest(n=25, columns=['song', 'year'])\n",
    "top5_df.sort_values(by=['year', 'song'], inplace=True, ascending=False)\n",
    "\n",
    "# Muestra el top 5 de los géneros mas sonados por año (2000, 2005, 2010, 2015, 2019)\n",
    "top5_df"
   ]
  },
  {
   "cell_type": "markdown",
   "id": "c70ad60e-9bbd-45cc-9850-b4a857426a45",
   "metadata": {
    "tags": []
   },
   "source": [
    "### Visualización\n"
   ]
  },
  {
   "cell_type": "code",
   "execution_count": 561,
   "id": "0c2fb5f8-b7cb-4450-8b3c-fb728b51219f",
   "metadata": {},
   "outputs": [
    {
     "data": {
      "text/html": [
       "<div>\n",
       "<style scoped>\n",
       "    .dataframe tbody tr th:only-of-type {\n",
       "        vertical-align: middle;\n",
       "    }\n",
       "\n",
       "    .dataframe tbody tr th {\n",
       "        vertical-align: top;\n",
       "    }\n",
       "\n",
       "    .dataframe thead th {\n",
       "        text-align: right;\n",
       "    }\n",
       "</style>\n",
       "<table border=\"1\" class=\"dataframe\">\n",
       "  <thead>\n",
       "    <tr style=\"text-align: right;\">\n",
       "      <th>genre</th>\n",
       "      <th>year</th>\n",
       "      <th>Dance/Electronic</th>\n",
       "      <th>R&amp;B</th>\n",
       "      <th>hip hop</th>\n",
       "      <th>latin</th>\n",
       "      <th>metal</th>\n",
       "      <th>pop</th>\n",
       "      <th>rock</th>\n",
       "    </tr>\n",
       "  </thead>\n",
       "  <tbody>\n",
       "    <tr>\n",
       "      <th>0</th>\n",
       "      <td>2000</td>\n",
       "      <td>NaN</td>\n",
       "      <td>25.0</td>\n",
       "      <td>21.0</td>\n",
       "      <td>NaN</td>\n",
       "      <td>8.0</td>\n",
       "      <td>57.0</td>\n",
       "      <td>13.0</td>\n",
       "    </tr>\n",
       "    <tr>\n",
       "      <th>1</th>\n",
       "      <td>2005</td>\n",
       "      <td>5.0</td>\n",
       "      <td>31.0</td>\n",
       "      <td>50.0</td>\n",
       "      <td>NaN</td>\n",
       "      <td>NaN</td>\n",
       "      <td>81.0</td>\n",
       "      <td>18.0</td>\n",
       "    </tr>\n",
       "    <tr>\n",
       "      <th>2</th>\n",
       "      <td>2010</td>\n",
       "      <td>28.0</td>\n",
       "      <td>23.0</td>\n",
       "      <td>54.0</td>\n",
       "      <td>NaN</td>\n",
       "      <td>NaN</td>\n",
       "      <td>96.0</td>\n",
       "      <td>6.0</td>\n",
       "    </tr>\n",
       "    <tr>\n",
       "      <th>3</th>\n",
       "      <td>2015</td>\n",
       "      <td>28.0</td>\n",
       "      <td>21.0</td>\n",
       "      <td>33.0</td>\n",
       "      <td>NaN</td>\n",
       "      <td>NaN</td>\n",
       "      <td>87.0</td>\n",
       "      <td>14.0</td>\n",
       "    </tr>\n",
       "    <tr>\n",
       "      <th>4</th>\n",
       "      <td>2019</td>\n",
       "      <td>21.0</td>\n",
       "      <td>9.0</td>\n",
       "      <td>38.0</td>\n",
       "      <td>8.0</td>\n",
       "      <td>NaN</td>\n",
       "      <td>62.0</td>\n",
       "      <td>NaN</td>\n",
       "    </tr>\n",
       "  </tbody>\n",
       "</table>\n",
       "</div>"
      ],
      "text/plain": [
       "genre  year  Dance/Electronic   R&B  hip hop  latin  metal   pop  rock\n",
       "0      2000               NaN  25.0     21.0    NaN    8.0  57.0  13.0\n",
       "1      2005               5.0  31.0     50.0    NaN    NaN  81.0  18.0\n",
       "2      2010              28.0  23.0     54.0    NaN    NaN  96.0   6.0\n",
       "3      2015              28.0  21.0     33.0    NaN    NaN  87.0  14.0\n",
       "4      2019              21.0   9.0     38.0    8.0    NaN  62.0   NaN"
      ]
     },
     "execution_count": 561,
     "metadata": {},
     "output_type": "execute_result"
    }
   ],
   "source": [
    "# convierte el dataframe en una tabla cruzada\n",
    "df = pd.crosstab(top5_df.year, top5_df.genre,values=top5_df.song, aggfunc='sum')\n",
    "df = df.reset_index()\n",
    "df"
   ]
  },
  {
   "cell_type": "code",
   "execution_count": 562,
   "id": "3df85a5e-46d7-43c2-8469-280337969002",
   "metadata": {},
   "outputs": [
    {
     "data": {
      "text/plain": [
       "Text(0.5, 1.0, 'Top 5 de géneros por año')"
      ]
     },
     "execution_count": 562,
     "metadata": {},
     "output_type": "execute_result"
    },
    {
     "data": {
      "image/png": "[encoded data removed]",
      "text/plain": [
       "<Figure size 1100x800 with 1 Axes>"
      ]
     },
     "metadata": {},
     "output_type": "display_data"
    }
   ],
   "source": [
    "ax = df.plot.bar(x='year', y=[\"pop\", \"R&B\", \"hip hop\", \"rock\", \"Dance/Electronic\", \"metal\", \"latin\"],figsize=(11,8), stacked = 'True')\n",
    "ax.set_ylabel('Cantidad de canciones')\n",
    "ax.set_xlabel('Año')\n",
    "ax.tick_params(axis=\"x\", labelrotation = 0)\n",
    "ax.set_title('Top 5 de géneros por año')"
   ]
  },
  {
   "cell_type": "markdown",
   "id": "d489c62a-b39c-45b5-9a95-aca1323e2d8f",
   "metadata": {},
   "source": [
    "### Análisis\n",
    "    * 2010 es el año con mayor cantidad de canciones en el top 5 de géneros\n",
    "    * A través de los años estudiados, el género pop se ha mantenidos en el top 1 con la mayor cantidad de canciones\n",
    "    * Los géneros pop, R&B y hip hop son una constante a través de los años estudiados.\n",
    "        "
   ]
  },
  {
   "cell_type": "markdown",
   "id": "9dc385db-3b22-4310-bda9-a4ebce1a1f6c",
   "metadata": {},
   "source": [
    "## Punto 4: ¿Cómo ha sido la progresión de nuevos artistas?\n",
    "\n",
    "Se asume que un artista nuevo es aquel del cual no se tiene registros pasados y solo es nuevo durante el primer año de aparición."
   ]
  },
  {
   "cell_type": "code",
   "execution_count": 472,
   "id": "d58bbecc-c44d-4bf8-bceb-46b149efe91b",
   "metadata": {},
   "outputs": [
    {
     "data": {
      "text/plain": [
       "array([2000, 1999, 2001, 2011, 2002, 2016, 1998, 2018, 2004, 2010, 2015,\n",
       "       2006, 2008, 2019, 2003, 2013, 2005, 2020, 2007, 2009, 2012, 2017,\n",
       "       2014], dtype=int64)"
      ]
     },
     "execution_count": 472,
     "metadata": {},
     "output_type": "execute_result"
    }
   ],
   "source": [
    "sptf_df['year'].unique()"
   ]
  },
  {
   "cell_type": "code",
   "execution_count": 550,
   "id": "f0cc8abb-bc36-4df3-95f5-cf63e23b323b",
   "metadata": {},
   "outputs": [
    {
     "data": {
      "text/html": [
       "<div>\n",
       "<style scoped>\n",
       "    .dataframe tbody tr th:only-of-type {\n",
       "        vertical-align: middle;\n",
       "    }\n",
       "\n",
       "    .dataframe tbody tr th {\n",
       "        vertical-align: top;\n",
       "    }\n",
       "\n",
       "    .dataframe thead th {\n",
       "        text-align: right;\n",
       "    }\n",
       "</style>\n",
       "<table border=\"1\" class=\"dataframe\">\n",
       "  <thead>\n",
       "    <tr style=\"text-align: right;\">\n",
       "      <th></th>\n",
       "      <th>año</th>\n",
       "      <th>cantArtsNuevos</th>\n",
       "    </tr>\n",
       "  </thead>\n",
       "  <tbody>\n",
       "    <tr>\n",
       "      <th>0</th>\n",
       "      <td>1999</td>\n",
       "      <td>29</td>\n",
       "    </tr>\n",
       "    <tr>\n",
       "      <th>1</th>\n",
       "      <td>2000</td>\n",
       "      <td>55</td>\n",
       "    </tr>\n",
       "    <tr>\n",
       "      <th>2</th>\n",
       "      <td>2001</td>\n",
       "      <td>60</td>\n",
       "    </tr>\n",
       "    <tr>\n",
       "      <th>3</th>\n",
       "      <td>2002</td>\n",
       "      <td>38</td>\n",
       "    </tr>\n",
       "    <tr>\n",
       "      <th>4</th>\n",
       "      <td>2003</td>\n",
       "      <td>42</td>\n",
       "    </tr>\n",
       "    <tr>\n",
       "      <th>5</th>\n",
       "      <td>2004</td>\n",
       "      <td>40</td>\n",
       "    </tr>\n",
       "    <tr>\n",
       "      <th>6</th>\n",
       "      <td>2005</td>\n",
       "      <td>39</td>\n",
       "    </tr>\n",
       "    <tr>\n",
       "      <th>7</th>\n",
       "      <td>2006</td>\n",
       "      <td>37</td>\n",
       "    </tr>\n",
       "    <tr>\n",
       "      <th>8</th>\n",
       "      <td>2007</td>\n",
       "      <td>35</td>\n",
       "    </tr>\n",
       "    <tr>\n",
       "      <th>9</th>\n",
       "      <td>2008</td>\n",
       "      <td>34</td>\n",
       "    </tr>\n",
       "    <tr>\n",
       "      <th>10</th>\n",
       "      <td>2009</td>\n",
       "      <td>29</td>\n",
       "    </tr>\n",
       "    <tr>\n",
       "      <th>11</th>\n",
       "      <td>2010</td>\n",
       "      <td>35</td>\n",
       "    </tr>\n",
       "    <tr>\n",
       "      <th>12</th>\n",
       "      <td>2011</td>\n",
       "      <td>33</td>\n",
       "    </tr>\n",
       "    <tr>\n",
       "      <th>13</th>\n",
       "      <td>2012</td>\n",
       "      <td>32</td>\n",
       "    </tr>\n",
       "    <tr>\n",
       "      <th>14</th>\n",
       "      <td>2013</td>\n",
       "      <td>32</td>\n",
       "    </tr>\n",
       "    <tr>\n",
       "      <th>15</th>\n",
       "      <td>2014</td>\n",
       "      <td>38</td>\n",
       "    </tr>\n",
       "    <tr>\n",
       "      <th>16</th>\n",
       "      <td>2015</td>\n",
       "      <td>39</td>\n",
       "    </tr>\n",
       "    <tr>\n",
       "      <th>17</th>\n",
       "      <td>2016</td>\n",
       "      <td>39</td>\n",
       "    </tr>\n",
       "    <tr>\n",
       "      <th>18</th>\n",
       "      <td>2017</td>\n",
       "      <td>44</td>\n",
       "    </tr>\n",
       "    <tr>\n",
       "      <th>19</th>\n",
       "      <td>2018</td>\n",
       "      <td>36</td>\n",
       "    </tr>\n",
       "    <tr>\n",
       "      <th>20</th>\n",
       "      <td>2019</td>\n",
       "      <td>40</td>\n",
       "    </tr>\n",
       "  </tbody>\n",
       "</table>\n",
       "</div>"
      ],
      "text/plain": [
       "     año  cantArtsNuevos\n",
       "0   1999              29\n",
       "1   2000              55\n",
       "2   2001              60\n",
       "3   2002              38\n",
       "4   2003              42\n",
       "5   2004              40\n",
       "6   2005              39\n",
       "7   2006              37\n",
       "8   2007              35\n",
       "9   2008              34\n",
       "10  2009              29\n",
       "11  2010              35\n",
       "12  2011              33\n",
       "13  2012              32\n",
       "14  2013              32\n",
       "15  2014              38\n",
       "16  2015              39\n",
       "17  2016              39\n",
       "18  2017              44\n",
       "19  2018              36\n",
       "20  2019              40"
      ]
     },
     "execution_count": 550,
     "metadata": {},
     "output_type": "execute_result"
    }
   ],
   "source": [
    "# inicializa las listas para el dataframe del resultado\n",
    "year = []\n",
    "count = []\n",
    "\n",
    "for i in range(1999,2020):\n",
    "    # se genera un dataframe con los artistis de los años anterios a i\n",
    "    df1 = sptf_df[(sptf_df['year'] < i)].drop_duplicates(subset=['artist'])[['artist']]\n",
    "    # se genera un dataframe con los artistis del año i\n",
    "    df2 = sptf_df[(sptf_df['year'] == i)].drop_duplicates(subset=['artist'])[['artist']]\n",
    "    \n",
    "    # se hace merge con los dos dataframe de artistas y se identifican los artistas nuevos\n",
    "    df3 = df2.merge(df1, how='outer', indicator='union')\n",
    "    df3 = df3[(df3['union'] == 'left_only')][['artist']]\n",
    "    \n",
    "    # se adiciona el año y la cantidad de artistas nuevos las listas\n",
    "    year.append(i)\n",
    "    count.append(len(df3))\n",
    "\n",
    "# se crea un dataframe resultado a partir de las listas\n",
    "data = {'año': year,\n",
    "    'cantArtsNuevos': count}\n",
    "new_art_df = pd.DataFrame(data)\n",
    "new_art_df"
   ]
  },
  {
   "cell_type": "markdown",
   "id": "29f9012b-97b6-4722-8d90-5f64a004166d",
   "metadata": {},
   "source": [
    "### Visualización"
   ]
  },
  {
   "cell_type": "code",
   "execution_count": 559,
   "id": "68e3064a-e983-48b6-8d06-eac653170458",
   "metadata": {},
   "outputs": [
    {
     "data": {
      "image/png": "[encoded data removed]",
      "text/plain": [
       "<Figure size 1300x600 with 1 Axes>"
      ]
     },
     "metadata": {},
     "output_type": "display_data"
    }
   ],
   "source": [
    "# Visualiza la progresión de artistas nuevos por año\n",
    "ax = new_art_df.plot(x='año', y='cantArtsNuevos', marker=\"o\",figsize=(13,6))\n",
    "ax.set_title('Progresión artistas nuevos por año (1999-2019)')\n",
    "\n",
    "ax.set_ylim(0, 65)\n",
    "ax.set_xlim(1998, 2020)\n",
    "\n",
    "plt.xticks([1999, 2000, 2001, 2002, 2003, 2004, 2005, 2006, 2007, 2008, 2009, 2010, 2011, 2012, 2013, 2014, 2015, 2016, 2017, 2018, 2019])\n",
    "\n",
    "# cambia texto de la leyenda\n",
    "L=plt.legend()\n",
    "L.get_texts()[0].set_text('cantidad artistas nuevos')\n",
    "\n"
   ]
  },
  {
   "cell_type": "markdown",
   "id": "e9b8c894-89bd-4e75-aca4-621a3492f6c8",
   "metadata": {},
   "source": [
    "### Análisis\n",
    "\n",
    "Durante los primeros 3 años (1999-2001) del análisis, la cantidad de artistas nuevos es alta debido a ausencia de datos para años anteriores.\n",
    "Después de los 3 primeros años del análisis, la cantidad promedio de artistas nuevos es de aproximadamente 36 por año"
   ]
  },
  {
   "cell_type": "markdown",
   "id": "eda0a18f-1000-44e6-a06a-4ba21d15e41c",
   "metadata": {},
   "source": [
    "## Punto 5: \n",
    "Grafique la progresión de la popularidad promedio por género y por año. Concluya sobre la gráfica"
   ]
  },
  {
   "cell_type": "code",
   "execution_count": null,
   "id": "4848bddb-a87d-4ed2-86f7-98741a8b7120",
   "metadata": {},
   "outputs": [],
   "source": []
  }
 ],
 "metadata": {
  "kernelspec": {
   "display_name": "Python 3 (ipykernel)",
   "language": "python",
   "name": "python3"
  },
  "language_info": {
   "codemirror_mode": {
    "name": "ipython",
    "version": 3
   },
   "file_extension": ".py",
   "mimetype": "text/x-python",
   "name": "python",
   "nbconvert_exporter": "python",
   "pygments_lexer": "ipython3",
   "version": "3.9.12"
  }
 },
 "nbformat": 4,
 "nbformat_minor": 5
}
